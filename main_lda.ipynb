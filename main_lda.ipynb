{
 "cells": [
  {
   "cell_type": "markdown",
   "metadata": {},
   "source": [
    "# LDA\n",
    "In this TP you are going to build the Linear Discriminant Analysis classifier, that can be also used for dimensionality reduction. \n",
    "\n",
    "You are going to fill a few missing functions in the python scripts to implement the exercises that we ask. So first of all read and understand the given python scripts.  To run your code you have to run the main\\_lda.ipynb notebook.  \n",
    "\n",
    "## Exersises\n",
    "\n",
    "- Fill the missing functions in the `LDA`, `LDARaleygh` and `LDAGD` class in `lda.py, lda\\_raleygh.py and lda\\_gd.py to implement the the LDA algorithm.\n",
    "\n",
    "- Use main\\_lda.ipynb in order to run the functions that you implement in the `LDA`, `LDARaleygh` and `LDAGD` classes. You cannot modify the given functions.\n",
    "\n",
    "- Write a function named `compute_accuracy(y_true, y_pred)` in the `utils.py` script. The function takes as arguments the true and the predicted class labels and returns the accuracy. Use only numpy.\n",
    "\n",
    "\n",
    "\n",
    "- Once your implementation is ready you will work with for the following datasets:\n",
    "\n",
    "**Datasets:**\n",
    "- Iris dataset (https://scikit-learn.org/stable/datasets/toy_dataset.html#iris-plants-dataset)\n",
    "- Breast cancer dataset (https://scikit-learn.org/stable/datasets/toy_dataset.html#breast-cancer-wisconsin-diagnostic-dataset)\n",
    "\t\n",
    "\n",
    "\n",
    "\n",
    "## General instruction\n",
    "\n",
    "The code should be well written with detailed comments to explain what you do at each step.  Avoid the for loops and if statements using the nymPy library. Your code should be generic and you should use the given functions."
   ]
  },
  {
   "cell_type": "code",
   "execution_count": 2,
   "metadata": {
    "ExecuteTime": {
     "end_time": "2024-05-09T18:01:34.103930Z",
     "start_time": "2024-05-09T18:01:32.870914Z"
    }
   },
   "outputs": [],
   "source": [
    "from __future__ import print_function\n",
    "import numpy as np\n",
    "\n",
    "from utils import train_test_split\n",
    "\n",
    "from utils import train_test_split, compute_accuracy\n",
    "# make figures appear inline\n",
    "%matplotlib inline\n",
    "\n",
    "\n",
    "# for auto-reloading extenrnal modules\n",
    "# see http://stackoverflow.com/questions/1907993/autoreload-of-modules-in-ipython\n",
    "%load_ext autoreload\n",
    "%autoreload 2\n",
    "\n",
    "np.random.seed(42)"
   ]
  },
  {
   "cell_type": "markdown",
   "metadata": {},
   "source": [
    "## Load Breast Cancer dataset"
   ]
  },
  {
   "cell_type": "code",
   "execution_count": 3,
   "metadata": {
    "ExecuteTime": {
     "end_time": "2024-05-09T18:01:40.376704Z",
     "start_time": "2024-05-09T18:01:40.254839Z"
    }
   },
   "outputs": [
    {
     "name": "stdout",
     "output_type": "stream",
     "text": [
      "Training data shape:  (399, 30)\n",
      "Training labels shape:  (399,)\n",
      "Test data shape:  (170, 30)\n",
      "Test labels shape:  (170,)\n"
     ]
    }
   ],
   "source": [
    "from sklearn.datasets import load_breast_cancer\n",
    "\n",
    "dataset = load_breast_cancer()\n",
    "X = dataset.data\n",
    "y = dataset.target\n",
    "X_train, y_train, X_test, y_test = train_test_split(X, y, 0.3, normalize=True)\n",
    "\n",
    "# print out the size of the training and test data.\n",
    "print('Training data shape: ', X_train.shape)\n",
    "print('Training labels shape: ', y_train.shape)\n",
    "print('Test data shape: ', X_test.shape)\n",
    "print('Test labels shape: ', y_test.shape)"
   ]
  },
  {
   "cell_type": "markdown",
   "metadata": {},
   "source": [
    "## Import the LDA classifiers and start filling the missing parts."
   ]
  },
  {
   "cell_type": "markdown",
   "metadata": {},
   "source": [
    "### 1. Test LDA with Rayleigh quotient implementation"
   ]
  },
  {
   "cell_type": "code",
   "execution_count": 4,
   "metadata": {
    "ExecuteTime": {
     "end_time": "2024-05-09T18:02:01.301152Z",
     "start_time": "2024-05-09T18:02:00.549565Z"
    }
   },
   "outputs": [],
   "source": [
    "# import classifier \n",
    "from lda_rayleigh  import LDARayleigh"
   ]
  },
  {
   "cell_type": "code",
   "execution_count": 5,
   "metadata": {
    "ExecuteTime": {
     "end_time": "2024-05-09T18:02:04.829979Z",
     "start_time": "2024-05-09T18:02:04.740667Z"
    }
   },
   "outputs": [],
   "source": [
    "lda_clf = LDARayleigh(n_components=1)\n"
   ]
  },
  {
   "cell_type": "code",
   "execution_count": 6,
   "metadata": {
    "ExecuteTime": {
     "end_time": "2024-05-09T18:02:07.659212Z",
     "start_time": "2024-05-09T18:02:07.589292Z"
    }
   },
   "outputs": [],
   "source": [
    "SW, SB = lda_clf.calculate_scatter_matrices(X_train, y_train)\n",
    "assert SW.shape == SB.shape == (X_train.shape[1], X_train.shape[1])"
   ]
  },
  {
   "cell_type": "code",
   "execution_count": 17,
   "metadata": {
    "ExecuteTime": {
     "end_time": "2024-05-09T18:46:45.297273Z",
     "start_time": "2024-05-09T18:46:45.076290Z"
    }
   },
   "outputs": [],
   "source": [
    "lda_clf._calculate_discriminants(X_train, y_train)\n",
    "assert lda_clf.linear_discriminants is not None\n",
    "assert lda_clf.linear_discriminants.shape == (X_train.shape[1], lda_clf.n_components)"
   ]
  },
  {
   "cell_type": "code",
   "execution_count": 18,
   "metadata": {
    "ExecuteTime": {
     "end_time": "2024-05-09T18:46:45.789100Z",
     "start_time": "2024-05-09T18:46:45.671165Z"
    }
   },
   "outputs": [],
   "source": [
    "lda_clf.train(X_train, y_train)"
   ]
  },
  {
   "cell_type": "code",
   "execution_count": 20,
   "metadata": {
    "ExecuteTime": {
     "end_time": "2024-05-09T18:55:44.632603Z",
     "start_time": "2024-05-09T18:55:44.190259Z"
    }
   },
   "outputs": [
    {
     "ename": "ValueError",
     "evalue": "Expected two class means but got 465",
     "output_type": "error",
     "traceback": [
      "\u001B[0;31m---------------------------------------------------------------------------\u001B[0m",
      "\u001B[0;31mValueError\u001B[0m                                Traceback (most recent call last)",
      "Cell \u001B[0;32mIn[20], line 1\u001B[0m\n\u001B[0;32m----> 1\u001B[0m y_pred \u001B[38;5;241m=\u001B[39m lda_clf\u001B[38;5;241m.\u001B[39mpredict(X_test)\n\u001B[1;32m      2\u001B[0m \u001B[38;5;28;01massert\u001B[39;00m y_pred\u001B[38;5;241m.\u001B[39mshape \u001B[38;5;241m==\u001B[39m y_test\u001B[38;5;241m.\u001B[39mshape\n",
      "File \u001B[0;32m~/Desktop/Spring semestar/Data Mining/moodle/lda.py:198\u001B[0m, in \u001B[0;36mpredict\u001B[0;34m(self, X)\u001B[0m\n\u001B[1;32m    197\u001B[0m \u001B[38;5;28;01mdef\u001B[39;00m \u001B[38;5;21mplot_2d\u001B[39m(\u001B[38;5;28mself\u001B[39m, X, y, title\u001B[38;5;241m=\u001B[39m\u001B[38;5;28;01mNone\u001B[39;00m):\n\u001B[0;32m--> 198\u001B[0m \u001B[38;5;250m    \u001B[39m\u001B[38;5;124;03m\"\"\" Plot the dataset X and the corresponding labels y in 2D using the LDA\u001B[39;00m\n\u001B[1;32m    199\u001B[0m \u001B[38;5;124;03m    transformation.\u001B[39;00m\n\u001B[1;32m    200\u001B[0m \u001B[38;5;124;03m    Assign a different color to each class.\u001B[39;00m\n\u001B[1;32m    201\u001B[0m \u001B[38;5;124;03m    \"\"\"\u001B[39;00m\n\u001B[1;32m    203\u001B[0m     \u001B[38;5;28;01massert\u001B[39;00m \u001B[38;5;28mself\u001B[39m\u001B[38;5;241m.\u001B[39mn_components \u001B[38;5;241m==\u001B[39m \u001B[38;5;241m2\u001B[39m\n\u001B[1;32m    204\u001B[0m     \u001B[38;5;66;03m# Transform data\u001B[39;00m\n",
      "\u001B[0;31mValueError\u001B[0m: Expected two class means but got 465"
     ]
    }
   ],
   "source": [
    "y_pred = lda_clf.predict(X_test)\n",
    "assert y_pred.shape == y_test.shape"
   ]
  },
  {
   "cell_type": "code",
   "execution_count": null,
   "metadata": {},
   "outputs": [],
   "source": [
    "lda_clf.plot_1d(X_test, y_test)"
   ]
  },
  {
   "cell_type": "markdown",
   "metadata": {},
   "source": [
    "### 2. Test Gradient Descent implementation"
   ]
  },
  {
   "cell_type": "code",
   "execution_count": null,
   "metadata": {},
   "outputs": [],
   "source": [
    "from lda_gd import LDAGD"
   ]
  },
  {
   "cell_type": "code",
   "execution_count": null,
   "metadata": {},
   "outputs": [],
   "source": [
    "lda_clf = LDAGD(n_components=1)"
   ]
  },
  {
   "cell_type": "code",
   "execution_count": null,
   "metadata": {},
   "outputs": [],
   "source": [
    "SW, SB = lda_clf.calculate_scatter_matrices(X_train, y_train)\n",
    "assert SW.shape == SB.shape == (X_train.shape[1], X_train.shape[1])"
   ]
  },
  {
   "cell_type": "code",
   "execution_count": 10,
   "metadata": {
    "ExecuteTime": {
     "end_time": "2024-05-09T18:03:56.506399Z",
     "start_time": "2024-05-09T18:03:56.250905Z"
    }
   },
   "outputs": [],
   "source": [
    "lda_clf._calculate_discriminants(X_train, y_train)\n",
    "assert lda_clf.linear_discriminants is not None\n",
    "assert lda_clf.linear_discriminants.shape == (X_train.shape[1], lda_clf.n_components)"
   ]
  },
  {
   "cell_type": "code",
   "execution_count": 11,
   "metadata": {
    "ExecuteTime": {
     "end_time": "2024-05-09T18:03:57.232623Z",
     "start_time": "2024-05-09T18:03:57.015087Z"
    }
   },
   "outputs": [],
   "source": [
    "lda_clf.train(X_train, y_train)"
   ]
  },
  {
   "cell_type": "code",
   "execution_count": 15,
   "metadata": {
    "ExecuteTime": {
     "end_time": "2024-05-09T18:22:24.901936Z",
     "start_time": "2024-05-09T18:22:24.383265Z"
    }
   },
   "outputs": [
    {
     "ename": "AssertionError",
     "evalue": "",
     "output_type": "error",
     "traceback": [
      "\u001B[0;31m---------------------------------------------------------------------------\u001B[0m",
      "\u001B[0;31mAssertionError\u001B[0m                            Traceback (most recent call last)",
      "Cell \u001B[0;32mIn[15], line 1\u001B[0m\n\u001B[0;32m----> 1\u001B[0m y_pred \u001B[38;5;241m=\u001B[39m lda_clf\u001B[38;5;241m.\u001B[39mpredict(X_test)\n\u001B[1;32m      2\u001B[0m \u001B[38;5;28;01massert\u001B[39;00m y_pred\u001B[38;5;241m.\u001B[39mshape \u001B[38;5;241m==\u001B[39m y_test\u001B[38;5;241m.\u001B[39mshape\n",
      "File \u001B[0;32m~/Desktop/Spring semestar/Data Mining/moodle/lda.py:183\u001B[0m, in \u001B[0;36mpredict\u001B[0;34m(self, X)\u001B[0m\n\u001B[1;32m    175\u001B[0m \u001B[38;5;28;01mdef\u001B[39;00m \u001B[38;5;21mplot_1d\u001B[39m(\u001B[38;5;28mself\u001B[39m, X, y, title\u001B[38;5;241m=\u001B[39m\u001B[38;5;28;01mNone\u001B[39;00m):\n\u001B[1;32m    176\u001B[0m \u001B[38;5;250m    \u001B[39m\u001B[38;5;124;03m\"\"\" This function plots the projected datapoints to a single line.\u001B[39;00m\n\u001B[1;32m    177\u001B[0m \u001B[38;5;124;03m    This should be used for datasets with two clases, where `self.n_components == 1`.\u001B[39;00m\n\u001B[1;32m    178\u001B[0m \n\u001B[1;32m    179\u001B[0m \u001B[38;5;124;03m    Note: plot the 1D projectios on a single line. You can choose the line where y=0\u001B[39;00m\n\u001B[1;32m    180\u001B[0m \u001B[38;5;124;03m    to plot the points on. Assign a different color to each class.\u001B[39;00m\n\u001B[1;32m    181\u001B[0m \u001B[38;5;124;03m    \"\"\"\u001B[39;00m\n\u001B[0;32m--> 183\u001B[0m     \u001B[38;5;28;01massert\u001B[39;00m \u001B[38;5;28mself\u001B[39m\u001B[38;5;241m.\u001B[39mn_components \u001B[38;5;241m==\u001B[39m \u001B[38;5;241m1\u001B[39m\n\u001B[1;32m    185\u001B[0m     \u001B[38;5;66;03m# Transform data\u001B[39;00m\n\u001B[1;32m    186\u001B[0m     projections \u001B[38;5;241m=\u001B[39m \u001B[38;5;28mself\u001B[39m\u001B[38;5;241m.\u001B[39mtransform(X)\n",
      "\u001B[0;31mAssertionError\u001B[0m: "
     ]
    }
   ],
   "source": [
    "y_pred = lda_clf.predict(X_test)\n",
    "assert y_pred.shape == y_test.shape"
   ]
  },
  {
   "cell_type": "code",
   "execution_count": null,
   "metadata": {},
   "outputs": [],
   "source": [
    "lda_clf.plot_1d(X_test, y_test)"
   ]
  },
  {
   "cell_type": "markdown",
   "metadata": {},
   "source": [
    "### Once your implementation is ready run the both classifiers and compute the classification accuracy for breast cancer dataset.\n",
    "\n",
    "#### (You have to fill  the compute_accuracy() function in the utils.py script)\n"
   ]
  },
  {
   "cell_type": "markdown",
   "metadata": {},
   "source": [
    "-------------------------------------------------------------------------------------------------------------------"
   ]
  },
  {
   "cell_type": "markdown",
   "metadata": {},
   "source": [
    "### Run the LDARayleigh and LDAGD classifiers using on the Breast Cancer dataset and compute classification accuracy on both training and test set."
   ]
  },
  {
   "cell_type": "code",
   "execution_count": null,
   "metadata": {},
   "outputs": [],
   "source": [
    "from utils import compute_accuracy"
   ]
  },
  {
   "cell_type": "markdown",
   "metadata": {},
   "source": [
    "## Iris dataset"
   ]
  },
  {
   "cell_type": "code",
   "execution_count": null,
   "metadata": {},
   "outputs": [],
   "source": [
    "# Cleaning up variables to prevent loading data multiple times (which may cause memory issues)\n",
    "try:\n",
    "   del X_train, y_train\n",
    "   del X_test, y_test\n",
    "   print('Clear previously loaded data.')\n",
    "except:\n",
    "   pass"
   ]
  },
  {
   "cell_type": "code",
   "execution_count": null,
   "metadata": {},
   "outputs": [],
   "source": [
    "# Loas the breast cancer data set\n",
    "from sklearn.datasets import load_breast_cancer\n",
    "\n",
    "dataset = load_breast_cancer()\n",
    "X = dataset.data\n",
    "y = dataset.target\n",
    "X_train, y_train, X_test, y_test = train_test_split(X, y, 0.3, normalize=True)"
   ]
  },
  {
   "cell_type": "code",
   "execution_count": null,
   "metadata": {},
   "outputs": [],
   "source": [
    "# import classifier \n",
    "from lda_rayleigh import LDARayleigh\n",
    "lda_clf = LDARayleigh(n_components=1)\n",
    "lda_clf.train(X_train, y_train)\n",
    "y_pred_train = lda_clf.predict(X_train)\n",
    "y_pred_test = lda_clf.predict(X_test)\n",
    "train_accuracy = compute_accuracy(y_train, y_pred_train)\n",
    "test_accuracy = compute_accuracy(y_test, y_pred_test)\n",
    "\n",
    "print(f\"LDA_Rayleigh train accuracy: {train_accuracy}\")\n",
    "print(f\"LDA_Rayleigh test accuracy: {test_accuracy}\")"
   ]
  },
  {
   "cell_type": "code",
   "execution_count": null,
   "metadata": {},
   "outputs": [],
   "source": [
    "# import classifier \n",
    "from lda_gd  import LDAGD\n",
    "lda_clf = LDAGD(n_components=1)\n",
    "lda_clf.train(X_train, y_train)\n",
    "y_pred_train = lda_clf.predict(X_train)\n",
    "y_pred_test = lda_clf.predict(X_test)\n",
    "train_accuracy = compute_accuracy(y_train, y_pred_train)\n",
    "test_accuracy = compute_accuracy(y_test, y_pred_test)\n",
    "\n",
    "print(f\"LDA_GD train accuracy: {train_accuracy}\")\n",
    "print(f\"LDA_GD test accuracy: {test_accuracy}\")"
   ]
  },
  {
   "cell_type": "markdown",
   "metadata": {},
   "source": [
    "### LDA for dimensionality reduction.\n",
    "\n",
    "Similarly to PCA, LDA can  can also be used as a dimensionality reduction technique. \n",
    "In fact, LDA provides a projection of the data points in a lower dimension that best separates the examples by their assigned class."
   ]
  },
  {
   "cell_type": "code",
   "execution_count": null,
   "metadata": {},
   "outputs": [],
   "source": [
    "from utils import load_IRIS\n",
    "X_train, y_train, X_test, y_test = load_IRIS(test=True)\n",
    "\n",
    "# print out the size of the training and test data.\n",
    "print('Training data shape: ', X_train.shape)\n",
    "print('Training labels shape: ', y_train.shape)\n",
    "print('Test data shape: ', X_test.shape)\n",
    "print('Test labels shape: ', y_test.shape)              "
   ]
  },
  {
   "cell_type": "code",
   "execution_count": null,
   "metadata": {},
   "outputs": [],
   "source": [
    "lda_clf = LDARayleigh(n_components=2)\n",
    "lda_clf.train(X_train, y_train)\n",
    "lda_clf.plot_2d(X_train, y_train, \"Train\")\n",
    "lda_clf.plot_2d(X_test, y_test, \"Test\")"
   ]
  },
  {
   "cell_type": "code",
   "execution_count": null,
   "metadata": {},
   "outputs": [],
   "source": [
    "lda_clf = LDAGD(n_components=2)\n",
    "lda_clf.train(X_train, y_train)\n",
    "lda_clf.plot_2d(X_train, y_train, \"Train\")\n",
    "lda_clf.plot_2d(X_test, y_test, \"Test\")"
   ]
  },
  {
   "cell_type": "markdown",
   "metadata": {},
   "source": [
    "-------------------------------------------------------------------------------------------------------------------"
   ]
  }
 ],
 "metadata": {
  "kernelspec": {
   "display_name": "Python 3 (ipykernel)",
   "language": "python",
   "name": "python3"
  },
  "language_info": {
   "codemirror_mode": {
    "name": "ipython",
    "version": 3
   },
   "file_extension": ".py",
   "mimetype": "text/x-python",
   "name": "python",
   "nbconvert_exporter": "python",
   "pygments_lexer": "ipython3",
   "version": "3.11.7"
  }
 },
 "nbformat": 4,
 "nbformat_minor": 4
}
