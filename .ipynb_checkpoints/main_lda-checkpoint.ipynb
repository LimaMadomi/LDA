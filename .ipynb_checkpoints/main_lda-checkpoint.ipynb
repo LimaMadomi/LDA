{
 "cells": [
  {
   "cell_type": "markdown",
   "metadata": {},
   "source": [
    "# LDA\n",
    "In this TP you are going to build the Linear Discriminant Analysis classifier, that can be also used for dimensionality reduction. \n",
    "\n",
    "You are going to fill a few missing functions in the python scripts to implement the exercises that we ask. So first of all read and understand the given python scripts.  To run your code you have to run the main\\_lda.ipynb notebook.  \n",
    "\n",
    "## Exersises\n",
    "\n",
    "- Fill the missing functions in the `LDA`, `LDARaleygh` and `LDAGD` class in `lda.py, lda\\_raleygh.py and lda\\_gd.py to implement the the LDA algorithm.\n",
    "\n",
    "- Use main\\_lda.ipynb in order to run the functions that you implement in the `LDA`, `LDARaleygh` and `LDAGD` classes. You cannot modify the given functions.\n",
    "\n",
    "- Write a function named `compute_accuracy(y_true, y_pred)` in the `utils.py` script. The function takes as arguments the true and the predicted class labels and returns the accuracy. Use only numpy.\n",
    "\n",
    "\n",
    "\n",
    "- Once your implementation is ready you will work with for the following datasets:\n",
    "\n",
    "**Datasets:**\n",
    "- Iris dataset (https://scikit-learn.org/stable/datasets/toy_dataset.html#iris-plants-dataset)\n",
    "- Breast cancer dataset (https://scikit-learn.org/stable/datasets/toy_dataset.html#breast-cancer-wisconsin-diagnostic-dataset)\n",
    "\t\n",
    "\n",
    "\n",
    "\n",
    "## General instruction\n",
    "\n",
    "The code should be well written with detailed comments to explain what you do at each step.  Avoid the for loops and if statements using the nymPy library. Your code should be generic and you should use the given functions."
   ]
  },
  {
   "cell_type": "code",
   "execution_count": null,
   "metadata": {},
   "outputs": [],
   "source": [
    "from __future__ import print_function\n",
    "import numpy as np\n",
    "\n",
    "from utils import train_test_split, compute_accuracy\n",
    "# make figures appear inline\n",
    "%matplotlib inline\n",
    "\n",
    "\n",
    "# for auto-reloading extenrnal modules\n",
    "# see http://stackoverflow.com/questions/1907993/autoreload-of-modules-in-ipython\n",
    "%load_ext autoreload\n",
    "%autoreload 2\n",
    "\n",
    "np.random.seed(42)"
   ]
  },
  {
   "cell_type": "markdown",
   "metadata": {},
   "source": [
    "## Load Breast Cancer dataset"
   ]
  },
  {
   "cell_type": "code",
   "execution_count": null,
   "metadata": {},
   "outputs": [],
   "source": [
    "from sklearn.datasets import load_breast_cancer\n",
    "\n",
    "dataset = load_breast_cancer()\n",
    "X = dataset.data\n",
    "y = dataset.target\n",
    "X_train, y_train, X_test, y_test = train_test_split(X, y, 0.3, normalize=True)\n",
    "\n",
    "# print out the size of the training and test data.\n",
    "print('Training data shape: ', X_train.shape)\n",
    "print('Training labels shape: ', y_train.shape)\n",
    "print('Test data shape: ', X_test.shape)\n",
    "print('Test labels shape: ', y_test.shape)"
   ]
  },
  {
   "cell_type": "markdown",
   "metadata": {},
   "source": [
    "## Import the LDA classifiers and start filling the missing parts."
   ]
  },
  {
   "cell_type": "markdown",
   "metadata": {},
   "source": [
    "### 1. Test LDA with Rayleigh quotient implementation"
   ]
  },
  {
   "cell_type": "code",
   "execution_count": null,
   "metadata": {},
   "outputs": [],
   "source": [
    "# import classifier \n",
    "from lda_rayleigh  import LDARayleigh"
   ]
  },
  {
   "cell_type": "code",
   "execution_count": null,
   "metadata": {},
   "outputs": [],
   "source": [
    "lda_clf = LDARayleigh(n_components=1)\n"
   ]
  },
  {
   "cell_type": "code",
   "execution_count": null,
   "metadata": {},
   "outputs": [],
   "source": [
    "SW, SB = lda_clf.calculate_scatter_matrices(X_train, y_train)\n",
    "assert SW.shape == SB.shape == (X_train.shape[1], X_train.shape[1])"
   ]
  },
  {
   "cell_type": "code",
   "execution_count": null,
   "metadata": {},
   "outputs": [],
   "source": [
    "lda_clf._calculate_discriminants(X_train, y_train)\n",
    "assert lda_clf.linear_discriminants is not None\n",
    "assert lda_clf.linear_discriminants.shape == (X_train.shape[1], lda_clf.n_components)"
   ]
  },
  {
   "cell_type": "code",
   "execution_count": null,
   "metadata": {},
   "outputs": [],
   "source": [
    "lda_clf.train(X_train, y_train)"
   ]
  },
  {
   "cell_type": "code",
   "execution_count": null,
   "metadata": {},
   "outputs": [],
   "source": [
    "y_pred = lda_clf.predict(X_test)\n",
    "assert y_pred.shape == y_test.shape"
   ]
  },
  {
   "cell_type": "code",
   "execution_count": null,
   "metadata": {},
   "outputs": [],
   "source": [
    "lda_clf.plot_1d(X_test, y_test)"
   ]
  },
  {
   "cell_type": "markdown",
   "metadata": {},
   "source": [
    "### 2. Test Gradient Descent implementation"
   ]
  },
  {
   "cell_type": "code",
   "execution_count": null,
   "metadata": {},
   "outputs": [],
   "source": [
    "from lda_gd import LDAGD"
   ]
  },
  {
   "cell_type": "code",
   "execution_count": null,
   "metadata": {},
   "outputs": [],
   "source": [
    "lda_clf = LDAGD(n_components=1)"
   ]
  },
  {
   "cell_type": "code",
   "execution_count": null,
   "metadata": {},
   "outputs": [],
   "source": [
    "SW, SB = lda_clf.calculate_scatter_matrices(X_train, y_train)\n",
    "assert SW.shape == SB.shape == (X_train.shape[1], X_train.shape[1])"
   ]
  },
  {
   "cell_type": "code",
   "execution_count": null,
   "metadata": {},
   "outputs": [],
   "source": [
    "lda_clf._calculate_discriminants(X_train, y_train)\n",
    "assert lda_clf.linear_discriminants is not None\n",
    "assert lda_clf.linear_discriminants.shape == (X_train.shape[1], lda_clf.n_components)"
   ]
  },
  {
   "cell_type": "code",
   "execution_count": null,
   "metadata": {},
   "outputs": [],
   "source": [
    "lda_clf.train(X_train, y_train)"
   ]
  },
  {
   "cell_type": "code",
   "execution_count": null,
   "metadata": {},
   "outputs": [],
   "source": [
    "y_pred = lda_clf.predict(X_test)\n",
    "assert y_pred.shape == y_test.shape"
   ]
  },
  {
   "cell_type": "code",
   "execution_count": null,
   "metadata": {},
   "outputs": [],
   "source": [
    "lda_clf.plot_1d(X_test, y_test)"
   ]
  },
  {
   "cell_type": "markdown",
   "metadata": {},
   "source": [
    "### Once your implementation is ready run the both classifiers and compute the classification accuracy for breast cancer dataset.\n",
    "\n",
    "#### (You have to fill  the compute_accuracy() function in the utils.py script)\n"
   ]
  },
  {
   "cell_type": "markdown",
   "metadata": {},
   "source": [
    "-------------------------------------------------------------------------------------------------------------------"
   ]
  },
  {
   "cell_type": "markdown",
   "metadata": {},
   "source": [
    "### Run the LDARayleigh and LDAGD classifiers using on the Breast Cancer dataset and compute classification accuracy on both training and test set."
   ]
  },
  {
   "cell_type": "code",
   "execution_count": null,
   "metadata": {},
   "outputs": [],
   "source": [
    "from utils import compute_accuracy"
   ]
  },
  {
   "cell_type": "markdown",
   "metadata": {},
   "source": [
    "## Iris dataset"
   ]
  },
  {
   "cell_type": "code",
   "execution_count": null,
   "metadata": {},
   "outputs": [],
   "source": [
    "# Cleaning up variables to prevent loading data multiple times (which may cause memory issues)\n",
    "try:\n",
    "   del X_train, y_train\n",
    "   del X_test, y_test\n",
    "   print('Clear previously loaded data.')\n",
    "except:\n",
    "   pass"
   ]
  },
  {
   "cell_type": "code",
   "execution_count": null,
   "metadata": {},
   "outputs": [],
   "source": [
    "# Loas the breast cancer data set\n",
    "from sklearn.datasets import load_breast_cancer\n",
    "\n",
    "dataset = load_breast_cancer()\n",
    "X = dataset.data\n",
    "y = dataset.target\n",
    "X_train, y_train, X_test, y_test = train_test_split(X, y, 0.3, normalize=True)"
   ]
  },
  {
   "cell_type": "code",
   "execution_count": null,
   "metadata": {},
   "outputs": [],
   "source": [
    "# import classifier \n",
    "from lda_rayleigh import LDARayleigh\n",
    "lda_clf = LDARayleigh(n_components=1)\n",
    "lda_clf.train(X_train, y_train)\n",
    "y_pred_train = lda_clf.predict(X_train)\n",
    "y_pred_test = lda_clf.predict(X_test)\n",
    "train_accuracy = compute_accuracy(y_train, y_pred_train)\n",
    "test_accuracy = compute_accuracy(y_test, y_pred_test)\n",
    "\n",
    "print(f\"LDA_Rayleigh train accuracy: {train_accuracy}\")\n",
    "print(f\"LDA_Rayleigh test accuracy: {test_accuracy}\")"
   ]
  },
  {
   "cell_type": "code",
   "execution_count": null,
   "metadata": {},
   "outputs": [],
   "source": [
    "# import classifier \n",
    "from lda_gd  import LDAGD\n",
    "lda_clf = LDAGD(n_components=1)\n",
    "lda_clf.train(X_train, y_train)\n",
    "y_pred_train = lda_clf.predict(X_train)\n",
    "y_pred_test = lda_clf.predict(X_test)\n",
    "train_accuracy = compute_accuracy(y_train, y_pred_train)\n",
    "test_accuracy = compute_accuracy(y_test, y_pred_test)\n",
    "\n",
    "print(f\"LDA_GD train accuracy: {train_accuracy}\")\n",
    "print(f\"LDA_GD test accuracy: {test_accuracy}\")"
   ]
  },
  {
   "cell_type": "markdown",
   "metadata": {},
   "source": [
    "### LDA for dimensionality reduction.\n",
    "\n",
    "Similarly to PCA, LDA can  can also be used as a dimensionality reduction technique. \n",
    "In fact, LDA provides a projection of the data points in a lower dimension that best separates the examples by their assigned class."
   ]
  },
  {
   "cell_type": "code",
   "execution_count": null,
   "metadata": {},
   "outputs": [],
   "source": [
    "from utils import load_IRIS\n",
    "X_train, y_train, X_test, y_test = load_IRIS(test=True)\n",
    "\n",
    "# print out the size of the training and test data.\n",
    "print('Training data shape: ', X_train.shape)\n",
    "print('Training labels shape: ', y_train.shape)\n",
    "print('Test data shape: ', X_test.shape)\n",
    "print('Test labels shape: ', y_test.shape)              "
   ]
  },
  {
   "cell_type": "code",
   "execution_count": null,
   "metadata": {},
   "outputs": [],
   "source": [
    "lda_clf = LDARayleigh(n_components=2)\n",
    "lda_clf.train(X_train, y_train)\n",
    "lda_clf.plot_2d(X_train, y_train, \"Train\")\n",
    "lda_clf.plot_2d(X_test, y_test, \"Test\")"
   ]
  },
  {
   "cell_type": "code",
   "execution_count": null,
   "metadata": {},
   "outputs": [],
   "source": [
    "lda_clf = LDAGD(n_components=2)\n",
    "lda_clf.train(X_train, y_train)\n",
    "lda_clf.plot_2d(X_train, y_train, \"Train\")\n",
    "lda_clf.plot_2d(X_test, y_test, \"Test\")"
   ]
  },
  {
   "cell_type": "markdown",
   "metadata": {},
   "source": [
    "-------------------------------------------------------------------------------------------------------------------"
   ]
  }
 ],
 "metadata": {
  "kernelspec": {
   "display_name": "Python 3 (ipykernel)",
   "language": "python",
   "name": "python3"
  },
  "language_info": {
   "codemirror_mode": {
    "name": "ipython",
    "version": 3
   },
   "file_extension": ".py",
   "mimetype": "text/x-python",
   "name": "python",
   "nbconvert_exporter": "python",
   "pygments_lexer": "ipython3",
   "version": "3.8.5"
  }
 },
 "nbformat": 4,
 "nbformat_minor": 4
}
